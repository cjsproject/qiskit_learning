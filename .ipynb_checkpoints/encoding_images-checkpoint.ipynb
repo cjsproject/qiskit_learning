{
 "cells": [
  {
   "cell_type": "code",
   "execution_count": 88,
   "id": "documentary-roads",
   "metadata": {},
   "outputs": [],
   "source": [
    "%matplotlib inline\n",
    "# Importing standard Qiskit libraries\n",
    "from qiskit import QuantumCircuit, execute, Aer, IBMQ, assemble\n",
    "from qiskit.visualization import *\n",
    "from os import environ\n",
    "\n",
    "#local environment variable to store the access token :)\n",
    "token = environ.get('ibmq_token')"
   ]
  },
  {
   "cell_type": "code",
   "execution_count": 2,
   "id": "centered-marketing",
   "metadata": {},
   "outputs": [],
   "source": [
    "# Loading your IBM Q account(s)\n",
    "account = IBMQ.save_account(token, overwrite=True)\n",
    "provider = IBMQ.load_account()"
   ]
  },
  {
   "cell_type": "code",
   "execution_count": 3,
   "id": "reported-library",
   "metadata": {},
   "outputs": [],
   "source": [
    "# quasm_sim not necessary\n",
    "simulator = Aer.get_backend('qasm_simulator')"
   ]
  },
  {
   "cell_type": "code",
   "execution_count": 194,
   "id": "proved-intelligence",
   "metadata": {},
   "outputs": [
    {
     "name": "stdout",
     "output_type": "stream",
     "text": [
      "[0.1, 0.2, 0.3, 0.4]\n",
      "[0.6435011087932844, 0.9272952180016122, 1.1592794807274085, 1.369438406004566]\n"
     ]
    }
   ],
   "source": [
    "import numpy as np\n",
    "data = [0.1, 0.2, 0.3, 0.4]\n",
    "angles = []\n",
    "\n",
    "# encode data as angular rotations on bloch sphere\n",
    "for i in data:\n",
    "    angles.append(2*np.arcsin(np.sqrt(i)))\n",
    "print(data, angles, sep='\\n')"
   ]
  },
  {
   "cell_type": "code",
   "execution_count": 200,
   "id": "annual-oregon",
   "metadata": {},
   "outputs": [
    {
     "data": {
      "text/html": [
       "<pre style=\"word-wrap: normal;white-space: pre;background: #fff0;line-height: 1.1;font-family: &quot;Courier New&quot;,Courier,monospace\">     ┌────────────┐┌─┐         \n",
       "q_0: ┤ RY(0.6435) ├┤M├─────────\n",
       "     ├────────────┤└╥┘┌─┐      \n",
       "q_1: ┤ RY(0.9273) ├─╫─┤M├──────\n",
       "     ├────────────┤ ║ └╥┘┌─┐   \n",
       "q_2: ┤ RY(1.1593) ├─╫──╫─┤M├───\n",
       "     ├────────────┤ ║  ║ └╥┘┌─┐\n",
       "q_3: ┤ RY(1.3694) ├─╫──╫──╫─┤M├\n",
       "     └────────────┘ ║  ║  ║ └╥┘\n",
       "c: 4/═══════════════╩══╩══╩══╩═\n",
       "                    0  1  2  3 </pre>"
      ],
      "text/plain": [
       "     ┌────────────┐┌─┐         \n",
       "q_0: ┤ RY(0.6435) ├┤M├─────────\n",
       "     ├────────────┤└╥┘┌─┐      \n",
       "q_1: ┤ RY(0.9273) ├─╫─┤M├──────\n",
       "     ├────────────┤ ║ └╥┘┌─┐   \n",
       "q_2: ┤ RY(1.1593) ├─╫──╫─┤M├───\n",
       "     ├────────────┤ ║  ║ └╥┘┌─┐\n",
       "q_3: ┤ RY(1.3694) ├─╫──╫──╫─┤M├\n",
       "     └────────────┘ ║  ║  ║ └╥┘\n",
       "c: 4/═══════════════╩══╩══╩══╩═\n",
       "                    0  1  2  3 "
      ]
     },
     "execution_count": 200,
     "metadata": {},
     "output_type": "execute_result"
    }
   ],
   "source": [
    "# circuit with 2 qubits, 2 cbits\n",
    "qc = QuantumCircuit(4, 4)\n",
    "\n",
    "# apply RY gate using theta\n",
    "for i in range(4):\n",
    "    qc.ry(angles[i], i)\n",
    "\n",
    "# measure each qubit's output\n",
    "for i in range(4):\n",
    "    qc.measure(i, i)\n",
    "\n",
    "qc.draw()"
   ]
  },
  {
   "cell_type": "code",
   "execution_count": 247,
   "id": "signed-offset",
   "metadata": {},
   "outputs": [
    {
     "data": {
      "image/png": "[encoded data removed]",
      "text/plain": [
       "<Figure size 504x360 with 1 Axes>"
      ]
     },
     "execution_count": 247,
     "metadata": {},
     "output_type": "execute_result"
    }
   ],
   "source": [
    "# run simulation 100000 times, stores results in counts\n",
    "job = execute(qc, simulator, shots=100000)\n",
    "\n",
    "results = job.result()\n",
    "\n",
    "counts = results.get_counts(qc)\n",
    "\n",
    "plot_histogram(counts)"
   ]
  },
  {
   "cell_type": "code",
   "execution_count": 254,
   "id": "critical-civilian",
   "metadata": {},
   "outputs": [
    {
     "name": "stdout",
     "output_type": "stream",
     "text": [
      "[0.4, 0.3, 0.2, 0.1] \n",
      "Data Retrieved, just backwards\n"
     ]
    }
   ],
   "source": [
    "# retrieving original data as the \n",
    "# expected value of each set of bits i.e\n",
    "# add probabilities of all outputs with their 4th bit set on\n",
    "bit4 = []\n",
    "bit3 = []\n",
    "bit2 = []\n",
    "bit1 = []\n",
    "# creating an array to access E(psi) more easily\n",
    "for i in counts:\n",
    "    prob = counts[i]/100000\n",
    "    bit4.append([i[0], prob])\n",
    "    bit3.append([i[1], prob])\n",
    "    bit2.append([i[2], prob])\n",
    "    bit1.append([i[3], prob])\n",
    "    \n",
    "# array of bit's arrays...\n",
    "bits = [bit4, bit3, bit2, bit1]\n",
    "q_data = []\n",
    "\n",
    "# finding the expected value of each bit, appending to array\n",
    "for nth_bit in bits:\n",
    "    e_val = 0.0\n",
    "    for bit in nth_bit:\n",
    "#        print(bit[0], bit[1])\n",
    "        if int(bit[0]) == 1:\n",
    "            e_val += bit[1]\n",
    "#            print('added')\n",
    "    q_data.append(round(e_val, 2))\n",
    "\n",
    "print(q_data, '\\nData Retrieved, just backwards')"
   ]
  },
  {
   "cell_type": "code",
   "execution_count": null,
   "id": "moving-beginning",
   "metadata": {},
   "outputs": [],
   "source": []
  }
 ],
 "metadata": {
  "kernelspec": {
   "display_name": "Python 3",
   "language": "python",
   "name": "python3"
  },
  "language_info": {
   "codemirror_mode": {
    "name": "ipython",
    "version": 3
   },
   "file_extension": ".py",
   "mimetype": "text/x-python",
   "name": "python",
   "nbconvert_exporter": "python",
   "pygments_lexer": "ipython3",
   "version": "3.8.5"
  }
 },
 "nbformat": 4,
 "nbformat_minor": 5
}
