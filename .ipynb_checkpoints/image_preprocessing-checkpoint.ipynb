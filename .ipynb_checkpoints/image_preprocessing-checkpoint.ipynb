{
 "cells": [
  {
   "cell_type": "code",
   "execution_count": 24,
   "id": "proved-intelligence",
   "metadata": {},
   "outputs": [
    {
     "name": "stdout",
     "output_type": "stream",
     "text": [
      "(28, 28)\n"
     ]
    },
    {
     "data": {
      "image/png": "[encoded data removed]",
      "text/plain": [
       "<Figure size 432x288 with 1 Axes>"
      ]
     },
     "metadata": {
      "needs_background": "light"
     },
     "output_type": "display_data"
    }
   ],
   "source": [
    "import numpy as np\n",
    "from matplotlib.image import imread\n",
    "import matplotlib.pyplot as plt\n",
    "\n",
    "import torch\n",
    "from torchvision import transforms\n",
    "from torchvision.datasets import MNIST\n",
    "\n",
    "# the data is already normalized, no need to transform further...\n",
    "digits = MNIST('data', train=True, download=False)\n",
    "\n",
    "digits = digits.data.numpy()\n",
    "digits = digits/np.max(digits)\n",
    "\n",
    "display = plt.imshow(digits[0])\n",
    "display.set_cmap('gray')\n",
    "print(digits[0].shape)"
   ]
  },
  {
   "cell_type": "code",
   "execution_count": 26,
   "id": "gothic-latin",
   "metadata": {},
   "outputs": [
    {
     "name": "stdout",
     "output_type": "stream",
     "text": [
      "[[0.94117647 0.99215686 0.99215686 0.46666667]\n",
      " [0.17647059 0.72941176 0.99215686 0.99215686]\n",
      " [0.         0.0627451  0.36470588 0.98823529]\n",
      " [0.         0.         0.         0.97647059]]\n"
     ]
    },
    {
     "data": {
      "image/png": "[encoded data removed]",
      "text/plain": [
       "<Figure size 432x288 with 1 Axes>"
      ]
     },
     "metadata": {
      "needs_background": "light"
     },
     "output_type": "display_data"
    }
   ],
   "source": [
    "# grab 4x4 squares of the image\n",
    "im1 = digits[0]\n",
    "\n",
    "stride = 1\n",
    "mat_sq = np.zeros([28,28,4,4])\n",
    "\n",
    "for i in range(0, len(im1)-4, stride):\n",
    "    for j in range(0, len(im1[i])-4, stride):\n",
    "        cube = im1[i:i+4, j:j+4]\n",
    "        mat_sq[i, j] = cube\n",
    "        \n",
    "# creates a 2d collection of matrices, where each [i, j] index contains a 4x4 matrix \n",
    "print(mat_sq[14, 14])\n",
    "display = plt.imshow(mat_sq[14, 14])\n",
    "display.set_cmap('gray')"
   ]
  },
  {
   "cell_type": "code",
   "execution_count": 29,
   "id": "international-trance",
   "metadata": {},
   "outputs": [
    {
     "name": "stdout",
     "output_type": "stream",
     "text": [
      "U*VT:\n",
      "[[ 0.85413351  0.41126815  0.31537472  0.04304922]\n",
      " [-0.50001648  0.58320301  0.54863064  0.32994272]\n",
      " [ 0.11598605 -0.66753227  0.48034988  0.55696669]\n",
      " [ 0.08358647  0.21244629 -0.60729499  0.76096825]]\n",
      "Original:\n",
      "[[0.94117647 0.99215686 0.99215686 0.46666667]\n",
      " [0.17647059 0.72941176 0.99215686 0.99215686]\n",
      " [0.         0.0627451  0.36470588 0.98823529]\n",
      " [0.         0.         0.         0.97647059]]\n"
     ]
    }
   ],
   "source": [
    "# find SVD of each submatrix, make unitary and assign to uni\n",
    "uni = np.zeros([28,28,4,4])\n",
    "\n",
    "for i in range(len(mat_sq)):\n",
    "    for j in range(len(mat_sq[i])):\n",
    "        U, S, VT = np.linalg.svd(mat_sq[i, j])\n",
    "        uni[i, j] = np.dot(U, VT)\n",
    "        #print(f\"U =\\n{U}\\n S =\\n{S}\\n VT=\\n{VT}\\n\")\n",
    "\n",
    "test = uni[14,14]\n",
    "# comparing unitary, they aren't the same :(\n",
    "print(f\"U*VT:\\n{uni[14, 14]}\\nOriginal:\\n{mat_sq[14, 14]}\")\n"
   ]
  },
  {
   "cell_type": "code",
   "execution_count": 32,
   "id": "present-dominant",
   "metadata": {},
   "outputs": [
    {
     "name": "stdout",
     "output_type": "stream",
     "text": [
      "Q:\n",
      "[[-0.98287219  0.18302974  0.02150299  0.        ]\n",
      " [-0.18428854 -0.97615861 -0.11468262  0.        ]\n",
      " [-0.         -0.11668111  0.99316943  0.        ]\n",
      " [-0.         -0.          0.          1.        ]]\n",
      "Original:\n",
      "[[0.94117647 0.99215686 0.99215686 0.46666667]\n",
      " [0.17647059 0.72941176 0.99215686 0.99215686]\n",
      " [0.         0.0627451  0.36470588 0.98823529]\n",
      " [0.         0.         0.         0.97647059]]\n",
      "Is Q Unitary:\n",
      "[[ 1. -0. -0.  0.]\n",
      " [ 0.  1. -0.  0.]\n",
      " [ 0. -0.  1.  0.]\n",
      " [ 0.  0.  0.  1.]]\n"
     ]
    },
    {
     "data": {
      "image/png": "[encoded data removed]",
      "text/plain": [
       "<Figure size 432x288 with 1 Axes>"
      ]
     },
     "metadata": {
      "needs_background": "light"
     },
     "output_type": "display_data"
    }
   ],
   "source": [
    "# try graham schmidt, they're just about the same!\n",
    "# seems to have detected an edge.\n",
    "Q, R = np.linalg.qr(mat_sq[14, 14])\n",
    "\n",
    "print(f\"Q:\\n{Q}\\nOriginal:\\n{mat_sq[14, 14]}\\nIs Q Unitary:\\n{np.matmul(Q, Q.transpose(0, 1)).round()}\")\n",
    "\n",
    "display = plt.imshow(Q)\n",
    "display.set_cmap('gray')"
   ]
  }
 ],
 "metadata": {
  "kernelspec": {
   "display_name": "Python 3",
   "language": "python",
   "name": "python3"
  },
  "language_info": {
   "codemirror_mode": {
    "name": "ipython",
    "version": 3
   },
   "file_extension": ".py",
   "mimetype": "text/x-python",
   "name": "python",
   "nbconvert_exporter": "python",
   "pygments_lexer": "ipython3",
   "version": "3.8.5"
  }
 },
 "nbformat": 4,
 "nbformat_minor": 5
}
