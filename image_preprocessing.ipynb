{
 "cells": [
  {
   "cell_type": "code",
   "execution_count": 2,
   "id": "proved-intelligence",
   "metadata": {},
   "outputs": [
    {
     "name": "stdout",
     "output_type": "stream",
     "text": [
      "torch.Size([28, 28])\n"
     ]
    },
    {
     "data": {
      "image/png": "[encoded data removed]",
      "text/plain": [
       "<Figure size 432x288 with 1 Axes>"
      ]
     },
     "metadata": {
      "needs_background": "light"
     },
     "output_type": "display_data"
    }
   ],
   "source": [
    "import numpy as np\n",
    "from matplotlib.image import imread\n",
    "import matplotlib.pyplot as plt\n",
    "\n",
    "import torch\n",
    "from torchvision import transforms\n",
    "from torchvision.datasets import MNIST\n",
    "\n",
    "# the data is already normalized, no need to transform further...\n",
    "digits = MNIST('data', train=True, download=False, \n",
    "               transform=transforms.ToTensor())\n",
    "\n",
    "display = plt.imshow(digits[0][0][0])\n",
    "display.set_cmap('gray')\n",
    "print(digits[0][0][0].shape)"
   ]
  },
  {
   "cell_type": "code",
   "execution_count": 3,
   "id": "gothic-latin",
   "metadata": {},
   "outputs": [
    {
     "name": "stdout",
     "output_type": "stream",
     "text": [
      "tensor([[0.9412, 0.9922, 0.9922, 0.4667],\n",
      "        [0.1765, 0.7294, 0.9922, 0.9922],\n",
      "        [0.0000, 0.0627, 0.3647, 0.9882],\n",
      "        [0.0000, 0.0000, 0.0000, 0.9765]])\n"
     ]
    },
    {
     "data": {
      "image/png": "[encoded data removed]",
      "text/plain": [
       "<Figure size 432x288 with 1 Axes>"
      ]
     },
     "metadata": {
      "needs_background": "light"
     },
     "output_type": "display_data"
    }
   ],
   "source": [
    "# grab 4x4 squares of the image\n",
    "im1 = digits[0][0][0]\n",
    "\n",
    "stride = 1\n",
    "mat_sq = torch.zeros([28,28,4,4])\n",
    "\n",
    "for i in range(0, len(im1)-4, stride):\n",
    "    for j in range(0, len(im1[i])-4, stride):\n",
    "        cube = im1[i:i+4, j:j+4]\n",
    "        mat_sq[i, j] = cube\n",
    "        \n",
    "# creates a 2d collection of matrices, where each [i, j] index contains a 4x4 matrix \n",
    "print(mat_sq[14, 14])\n",
    "display = plt.imshow(mat_sq[14, 14])\n",
    "display.set_cmap('gray')"
   ]
  },
  {
   "cell_type": "code",
   "execution_count": 4,
   "id": "international-trance",
   "metadata": {},
   "outputs": [
    {
     "name": "stdout",
     "output_type": "stream",
     "text": [
      "tensor([[ 0.2364, -0.0946,  0.3430,  0.9041],\n",
      "        [-0.3620, -0.3891,  0.8085, -0.2528],\n",
      "        [ 0.8348,  0.2210,  0.3747, -0.3373],\n",
      "        [ 0.3407, -0.8893, -0.2972, -0.0694]])\n",
      "tensor([[ 1.0000e+00,  1.4901e-08,  5.9605e-08,  1.4901e-07],\n",
      "        [ 1.4901e-08,  1.0000e+00, -5.2154e-08, -5.5879e-08],\n",
      "        [ 5.9605e-08, -5.2154e-08,  1.0000e+00, -1.5646e-07],\n",
      "        [ 1.4901e-07, -5.5879e-08, -1.5646e-07,  1.0000e+00]])\n"
     ]
    },
    {
     "data": {
      "image/png": "[encoded data removed]",
      "text/plain": [
       "<Figure size 432x288 with 1 Axes>"
      ]
     },
     "metadata": {
      "needs_background": "light"
     },
     "output_type": "display_data"
    }
   ],
   "source": [
    "# find SVD of each submatrix, make unitary and assign to uni\n",
    "uni = torch.zeros([28,28,4,4])\n",
    "\n",
    "for i in range(len(mat_sq)):\n",
    "    for j in range(len(mat_sq[i])):\n",
    "        U, S, VT = torch.svd(mat_sq[i, j])\n",
    "        uni[i, j] = torch.matmul(U, VT)\n",
    "        #print(f\"U =\\n{U}\\n S =\\n{S}\\n VT=\\n{VT}\\n\")\n",
    "\n",
    "test = uni[14,14]\n",
    "test_uni = torch.matmul(test, test.transpose(0, 1))\n",
    "# checking unitary-ness..\n",
    "print(uni[14, 14], test_uni, sep='\\n')\n",
    "display = plt.imshow(test)\n",
    "display.set_cmap('gray')"
   ]
  },
  {
   "cell_type": "code",
   "execution_count": null,
   "id": "present-dominant",
   "metadata": {},
   "outputs": [],
   "source": [
    "# try graham schmidt\n",
    "test_uni = torch.zeros(4, 4)\n",
    "for i in range(len(test)):\n",
    "    for j in range(len(test[i])):\n",
    "        if i == 0:\n",
    "            test_uni[i, j] = test[i, j]\n",
    "        else:\n",
    "            tes_uni[i, j] = test[i][j]\n",
    "            for a in range(j, 0, -1)\n",
    "                test_uni[i, j] -= test_uni[i]"
   ]
  }
 ],
 "metadata": {
  "kernelspec": {
   "display_name": "Python 3",
   "language": "python",
   "name": "python3"
  },
  "language_info": {
   "codemirror_mode": {
    "name": "ipython",
    "version": 3
   },
   "file_extension": ".py",
   "mimetype": "text/x-python",
   "name": "python",
   "nbconvert_exporter": "python",
   "pygments_lexer": "ipython3",
   "version": "3.8.5"
  }
 },
 "nbformat": 4,
 "nbformat_minor": 5
}
