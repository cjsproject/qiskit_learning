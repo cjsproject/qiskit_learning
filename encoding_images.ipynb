{
 "cells": [
  {
   "cell_type": "code",
   "execution_count": 1,
   "id": "documentary-roads",
   "metadata": {},
   "outputs": [],
   "source": [
    "%matplotlib inline\n",
    "# Importing standard Qiskit libraries\n",
    "from qiskit import QuantumCircuit, execute, Aer, IBMQ, assemble, extensions\n",
    "from qiskit.visualization import *\n",
    "\n",
    "from os import environ\n",
    "\n",
    "#local environment variable to store the access token :)\n",
    "token = environ.get('ibmq_token')"
   ]
  },
  {
   "cell_type": "code",
   "execution_count": 2,
   "id": "centered-marketing",
   "metadata": {},
   "outputs": [],
   "source": [
    "# Loading your IBM Q account(s)\n",
    "account = IBMQ.save_account(token, overwrite=True)\n",
    "provider = IBMQ.load_account()"
   ]
  },
  {
   "cell_type": "code",
   "execution_count": 3,
   "id": "reported-library",
   "metadata": {},
   "outputs": [],
   "source": [
    "# quasm_sim not necessary\n",
    "simulator = Aer.get_backend('qasm_simulator')\n"
   ]
  },
  {
   "cell_type": "code",
   "execution_count": 4,
   "id": "proved-intelligence",
   "metadata": {},
   "outputs": [
    {
     "name": "stdout",
     "output_type": "stream",
     "text": [
      "[[ 0.  0.  5. 13.  9.  1.  0.  0.]\n",
      " [ 0.  0. 13. 15. 10. 15.  5.  0.]\n",
      " [ 0.  3. 15.  2.  0. 11.  8.  0.]\n",
      " [ 0.  4. 12.  0.  0.  8.  8.  0.]\n",
      " [ 0.  5.  8.  0.  0.  9.  8.  0.]\n",
      " [ 0.  4. 11.  0.  1. 12.  7.  0.]\n",
      " [ 0.  2. 14.  5. 10. 12.  0.  0.]\n",
      " [ 0.  0.  6. 13. 10.  0.  0.  0.]]\n"
     ]
    }
   ],
   "source": [
    "import numpy as np\n",
    "from matplotlib.image import imread\n",
    "import matplotlib.pyplot as plt\n",
    "\n",
    "from sklearn.datasets import load_digits\n",
    "digits = load_digits()\n",
    "\n",
    "# load the list of lists into a list :)\n",
    "img_data = digits['images']\n",
    "print(img_data[0])"
   ]
  },
  {
   "cell_type": "code",
   "execution_count": 5,
   "id": "hidden-electron",
   "metadata": {},
   "outputs": [
    {
     "data": {
      "image/png": "[encoded data removed]",
      "text/plain": [
       "<Figure size 288x288 with 1 Axes>"
      ]
     },
     "metadata": {
      "needs_background": "light"
     },
     "output_type": "display_data"
    }
   ],
   "source": [
    "\n",
    "# setting the figure parameters to the size of the input\n",
    "plt.rcParams['figure.figsize'] = [4, 4]\n",
    "\n",
    "# testing one input\n",
    "A = img_data[0]\n",
    "B = img_data[5]\n",
    "\n",
    "# displays image in grayscale\n",
    "display = plt.imshow(A)\n",
    "display.set_cmap('gray')\n"
   ]
  },
  {
   "cell_type": "code",
   "execution_count": 70,
   "id": "explicit-methodology",
   "metadata": {
    "scrolled": false
   },
   "outputs": [
    {
     "name": "stdout",
     "output_type": "stream",
     "text": [
      "[[ 0.   11.5   8.75  1.25]\n",
      " [ 1.75  7.25  4.75  4.  ]\n",
      " [ 2.25  4.75  5.5   3.75]\n",
      " [ 0.5   9.5   8.    0.  ]]\n"
     ]
    },
    {
     "data": {
      "image/png": "[encoded data removed]",
      "text/plain": [
       "<Figure size 288x288 with 1 Axes>"
      ]
     },
     "metadata": {
      "needs_background": "light"
     },
     "output_type": "display_data"
    }
   ],
   "source": [
    "# compress image to a 4x4\n",
    "r=4\n",
    "\n",
    "# approx image:\n",
    "Xapp = np.zeros((r,r))\n",
    "for i in range(0, len(A), 2):\n",
    "    for j in range(0, len(A), 2):\n",
    "        sub_mat = np.zeros(r)\n",
    "        sub_sum = 0\n",
    "        sub_sum += A[i][j] + A[i][j+1] + A[i+1][j] + A[i+1][j+1] \n",
    "        Xapp[int(i/2)][int(j/2)] = sub_sum/4\n",
    "        \n",
    "print(np.array(Xapp))\n",
    "\n",
    "plt.figure(1)\n",
    "img = plt.imshow(Xapp)\n",
    "img.set_cmap('gray')\n",
    "plt.show()"
   ]
  },
  {
   "cell_type": "code",
   "execution_count": 71,
   "id": "gothic-latin",
   "metadata": {},
   "outputs": [
    {
     "name": "stdout",
     "output_type": "stream",
     "text": [
      "[[ 0.   11.5   8.75  1.25]\n",
      " [ 1.75  7.25  4.75  4.  ]\n",
      " [ 2.25  4.75  5.5   3.75]\n",
      " [ 0.5   9.5   8.    0.  ]]\n",
      "\n",
      "[[-0.71406945  0.54147768  0.42318928  0.13348252]\n",
      " [ 0.39592987  0.65446904 -0.34158336  0.54610495]\n",
      " [ 0.31901426 -0.27740405  0.71939318  0.55113551]\n",
      " [ 0.48122163  0.44890889  0.43209385 -0.61660478]]\n"
     ]
    },
    {
     "data": {
      "image/png": "[encoded data removed]",
      "text/plain": [
       "<Figure size 288x288 with 1 Axes>"
      ]
     },
     "metadata": {
      "needs_background": "light"
     },
     "output_type": "display_data"
    }
   ],
   "source": [
    "# Not sure if the inaccurate representation is an accurate one :) ie new unitary imgmap vs original imgmap\n",
    "# perform full Singular Vector Decomposition (SVD) on compressed image\n",
    "U, S, VT = np.linalg.svd(Xapp, full_matrices=True)\n",
    "\n",
    "# take unitary parts for encoding\n",
    "new_unitary = np.matmul(U, VT)\n",
    "\n",
    "print(Xapp, new_unitary,sep='\\n\\n')\n",
    "\n",
    "display = plt.imshow(new_unitary)\n",
    "display.set_cmap('gray')"
   ]
  },
  {
   "cell_type": "code",
   "execution_count": 89,
   "id": "annual-oregon",
   "metadata": {},
   "outputs": [
    {
     "name": "stdout",
     "output_type": "stream",
     "text": [
      "4\n"
     ]
    },
    {
     "data": {
      "text/html": [
       "<pre style=\"word-wrap: normal;white-space: pre;background: #fff0;line-height: 1.1;font-family: &quot;Courier New&quot;,Courier,monospace\">     ┌──────────┐┌─┐   \n",
       "q_0: ┤0         ├┤M├───\n",
       "     │  unitary │└╥┘┌─┐\n",
       "q_1: ┤1         ├─╫─┤M├\n",
       "     └──────────┘ ║ └╥┘\n",
       "c: 2/═════════════╩══╩═\n",
       "                  0  1 </pre>"
      ],
      "text/plain": [
       "     ┌──────────┐┌─┐   \n",
       "q_0: ┤0         ├┤M├───\n",
       "     │  unitary │└╥┘┌─┐\n",
       "q_1: ┤1         ├─╫─┤M├\n",
       "     └──────────┘ ║ └╥┘\n",
       "c: 2/═════════════╩══╩═\n",
       "                  0  1 "
      ]
     },
     "execution_count": 89,
     "metadata": {},
     "output_type": "execute_result"
    }
   ],
   "source": [
    "# circuit 2^n = 64, so n=6\n",
    "qc = QuantumCircuit(2, 2)\n",
    "\n",
    "# testing basic unitary\n",
    "identity = np.identity(4)\n",
    "\n",
    "print(len(new_unitary))\n",
    "qc.unitary(new_unitary, [0, 1])\n",
    "\n",
    "# measure qubit's output\n",
    "qc.measure([0, 1], [0, 1])\n",
    "\n",
    "qc.draw()\n"
   ]
  },
  {
   "cell_type": "code",
   "execution_count": 90,
   "id": "signed-offset",
   "metadata": {},
   "outputs": [
    {
     "data": {
      "image/png": "[encoded data removed]",
      "text/plain": [
       "<Figure size 504x360 with 1 Axes>"
      ]
     },
     "execution_count": 90,
     "metadata": {},
     "output_type": "execute_result"
    }
   ],
   "source": [
    "# run simulation 100000 times, stores results in counts\n",
    "job = execute(qc, simulator, shots=100000)\n",
    "\n",
    "results = job.result()\n",
    "\n",
    "counts = results.get_counts(qc)\n",
    "\n",
    "plot_histogram(counts)"
   ]
  },
  {
   "cell_type": "code",
   "execution_count": 91,
   "id": "critical-civilian",
   "metadata": {},
   "outputs": [
    {
     "data": {
      "text/plain": [
       "' NOT SURE HOW TO DECODE YET :('"
      ]
     },
     "execution_count": 91,
     "metadata": {},
     "output_type": "execute_result"
    }
   ],
   "source": [
    "\"\"\" NOT SURE HOW TO DECODE YET :(\"\"\""
   ]
  }
 ],
 "metadata": {
  "kernelspec": {
   "display_name": "Python 3",
   "language": "python",
   "name": "python3"
  },
  "language_info": {
   "codemirror_mode": {
    "name": "ipython",
    "version": 3
   },
   "file_extension": ".py",
   "mimetype": "text/x-python",
   "name": "python",
   "nbconvert_exporter": "python",
   "pygments_lexer": "ipython3",
   "version": "3.8.5"
  }
 },
 "nbformat": 4,
 "nbformat_minor": 5
}
