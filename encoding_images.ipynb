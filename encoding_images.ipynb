{
 "cells": [
  {
   "cell_type": "code",
   "execution_count": 2,
   "id": "documentary-roads",
   "metadata": {},
   "outputs": [],
   "source": [
    "%matplotlib inline\n",
    "# Importing standard Qiskit libraries\n",
    "from qiskit import QuantumCircuit, execute, Aer, IBMQ, assemble, extensions\n",
    "from qiskit.visualization import *\n",
    "\n",
    "from os import environ\n",
    "\n",
    "#local environment variable to store the access token :)\n",
    "token = environ.get('ibmq_token')"
   ]
  },
  {
   "cell_type": "code",
   "execution_count": 3,
   "id": "centered-marketing",
   "metadata": {},
   "outputs": [],
   "source": [
    "# Loading your IBM Q account(s)\n",
    "account = IBMQ.save_account(token, overwrite=True)\n",
    "provider = IBMQ.load_account()"
   ]
  },
  {
   "cell_type": "code",
   "execution_count": 4,
   "id": "reported-library",
   "metadata": {},
   "outputs": [],
   "source": [
    "# quasm_sim not necessary\n",
    "simulator = Aer.get_backend('qasm_simulator')\n"
   ]
  },
  {
   "cell_type": "code",
   "execution_count": 5,
   "id": "proved-intelligence",
   "metadata": {},
   "outputs": [
    {
     "name": "stdout",
     "output_type": "stream",
     "text": [
      "[[ 0.  0.  5. 13.  9.  1.  0.  0.]\n",
      " [ 0.  0. 13. 15. 10. 15.  5.  0.]\n",
      " [ 0.  3. 15.  2.  0. 11.  8.  0.]\n",
      " [ 0.  4. 12.  0.  0.  8.  8.  0.]\n",
      " [ 0.  5.  8.  0.  0.  9.  8.  0.]\n",
      " [ 0.  4. 11.  0.  1. 12.  7.  0.]\n",
      " [ 0.  2. 14.  5. 10. 12.  0.  0.]\n",
      " [ 0.  0.  6. 13. 10.  0.  0.  0.]]\n"
     ]
    }
   ],
   "source": [
    "import numpy as np\n",
    "from matplotlib.image import imread\n",
    "import matplotlib.pyplot as plt\n",
    "\n",
    "from sklearn.datasets import load_digits\n",
    "digits = load_digits()\n",
    "\n",
    "# load the list of lists into a list :)\n",
    "img_data = digits['images']\n",
    "print(img_data[0])"
   ]
  },
  {
   "cell_type": "code",
   "execution_count": 11,
   "id": "hidden-electron",
   "metadata": {},
   "outputs": [
    {
     "data": {
      "image/png": "[encoded data removed]",
      "text/plain": [
       "<Figure size 288x288 with 1 Axes>"
      ]
     },
     "metadata": {
      "needs_background": "light"
     },
     "output_type": "display_data"
    }
   ],
   "source": [
    "\n",
    "# setting the figure parameters to the size of the input\n",
    "plt.rcParams['figure.figsize'] = [4, 4]\n",
    "\n",
    "# testing one input\n",
    "A = img_data[0]\n",
    "B = img_data[5]\n",
    "\n",
    "# displays image in grayscale\n",
    "display = plt.imshow(A)\n",
    "display.set_cmap('gray')\n"
   ]
  },
  {
   "cell_type": "code",
   "execution_count": 64,
   "id": "explicit-methodology",
   "metadata": {
    "scrolled": false
   },
   "outputs": [
    {
     "name": "stdout",
     "output_type": "stream",
     "text": [
      "[[ 0.  0.  5. 13.  9.  1.  0.  0.]\n",
      " [ 0.  0. 13. 15. 10. 15.  5.  0.]\n",
      " [ 0.  3. 15.  2.  0. 11.  8.  0.]\n",
      " [ 0.  4. 12.  0.  0.  8.  8.  0.]\n",
      " [ 0.  5.  8.  0.  0.  9.  8.  0.]\n",
      " [ 0.  4. 11.  0.  1. 12.  7.  0.]\n",
      " [ 0.  2. 14.  5. 10. 12.  0.  0.]\n",
      " [ 0.  0.  6. 13. 10.  0.  0.  0.]]\n",
      "\n",
      "[[ 0.53140882  0.42830813  0.10985759  0.67190574  0.04072919 -0.16265087\n",
      "  -0.20619562  0.        ]\n",
      " [ 0.03023848 -0.47815866 -0.06856146  0.50793052  0.17155361  0.63901336\n",
      "   0.23312982 -0.12505044]\n",
      " [-0.31043999 -0.01254443  0.71841349  0.18492129 -0.58256578  0.08492288\n",
      "  -0.02284627 -0.07771161]\n",
      " [ 0.51776255 -0.11656075  0.44224003 -0.26299862  0.16000197 -0.15148432\n",
      "   0.62197544 -0.1348682 ]\n",
      " [-0.27775823  0.68580929 -0.13643863 -0.00573289  0.04392393  0.26838378\n",
      "   0.41431467 -0.43387994]\n",
      " [ 0.05889901  0.30032582  0.09995047 -0.1007998  -0.00381603  0.41220466\n",
      "   0.17450867  0.8281329 ]\n",
      " [ 0.00673247  0.11302794  0.44625761 -0.25904777  0.55630654  0.33920669\n",
      "  -0.51192535 -0.18526211]\n",
      " [-0.52112878 -0.02945126  0.20924865  0.33149042  0.54083837 -0.42195202\n",
      "   0.22711442  0.22749926]]\n"
     ]
    },
    {
     "data": {
      "image/png": "[encoded data removed]",
      "text/plain": [
       "<Figure size 288x288 with 1 Axes>"
      ]
     },
     "metadata": {
      "needs_background": "light"
     },
     "output_type": "display_data"
    }
   ],
   "source": [
    "# Not sure if the inaccurate representation is an accurate one :) ie new unitary imgmap vs original imgmap\n",
    "\n",
    "# perform full Singular Vector Decomposition (SVD)\n",
    "U, S, VT = np.linalg.svd(A, full_matrices=True)\n",
    "\n",
    "new_unitary = np.matmul(U, VT)\n",
    "\n",
    "\n",
    "print(A, new_unitary,sep='\\n\\n')\n",
    "\n",
    "display = plt.imshow(new_unitary)\n",
    "display.set_cmap('gray')"
   ]
  },
  {
   "cell_type": "code",
   "execution_count": 65,
   "id": "gothic-latin",
   "metadata": {},
   "outputs": [
    {
     "data": {
      "text/plain": [
       "'\\nfrom qiskit import QuantumRegister\\nfrom qiskit.extensions import UnitaryGate\\ninq = QuantumRegister(6, \"in_qubit\")\\ncirc = QuantumCircuit(inq)\\nq_data = new_unitary\\ncirc.append(UnitaryGate(q_data, label=\"Input\"), inq[0:6])\\nprint(circ)'"
      ]
     },
     "execution_count": 65,
     "metadata": {},
     "output_type": "execute_result"
    }
   ],
   "source": [
    "# may have to do something like this: \n",
    "# (it doesn't work runs error \"qubit/clbit arguments does not match the gate expectation.'\")\n",
    "\"\"\"\n",
    "from qiskit import QuantumRegister\n",
    "from qiskit.extensions import UnitaryGate\n",
    "inq = QuantumRegister(6, \"in_qubit\")\n",
    "circ = QuantumCircuit(inq)\n",
    "q_data = new_unitary\n",
    "circ.append(UnitaryGate(q_data, label=\"Input\"), inq[0:6])\n",
    "print(circ)\"\"\""
   ]
  },
  {
   "cell_type": "code",
   "execution_count": 58,
   "id": "annual-oregon",
   "metadata": {},
   "outputs": [
    {
     "data": {
      "text/html": [
       "<pre style=\"word-wrap: normal;white-space: pre;background: #fff0;line-height: 1.1;font-family: &quot;Courier New&quot;,Courier,monospace\">     ┌─────────┐┌─┐               \n",
       "q_0: ┤ unitary ├┤M├───────────────\n",
       "     ├─────────┤└╥┘┌─┐            \n",
       "q_1: ┤ unitary ├─╫─┤M├────────────\n",
       "     ├─────────┤ ║ └╥┘┌─┐         \n",
       "q_2: ┤ unitary ├─╫──╫─┤M├─────────\n",
       "     ├─────────┤ ║  ║ └╥┘┌─┐      \n",
       "q_3: ┤ unitary ├─╫──╫──╫─┤M├──────\n",
       "     ├─────────┤ ║  ║  ║ └╥┘┌─┐   \n",
       "q_4: ┤ unitary ├─╫──╫──╫──╫─┤M├───\n",
       "     ├─────────┤ ║  ║  ║  ║ └╥┘┌─┐\n",
       "q_5: ┤ unitary ├─╫──╫──╫──╫──╫─┤M├\n",
       "     └─────────┘ ║  ║  ║  ║  ║ └╥┘\n",
       "c: 6/════════════╩══╩══╩══╩══╩══╩═\n",
       "                 0  1  2  3  4  5 </pre>"
      ],
      "text/plain": [
       "     ┌─────────┐┌─┐               \n",
       "q_0: ┤ unitary ├┤M├───────────────\n",
       "     ├─────────┤└╥┘┌─┐            \n",
       "q_1: ┤ unitary ├─╫─┤M├────────────\n",
       "     ├─────────┤ ║ └╥┘┌─┐         \n",
       "q_2: ┤ unitary ├─╫──╫─┤M├─────────\n",
       "     ├─────────┤ ║  ║ └╥┘┌─┐      \n",
       "q_3: ┤ unitary ├─╫──╫──╫─┤M├──────\n",
       "     ├─────────┤ ║  ║  ║ └╥┘┌─┐   \n",
       "q_4: ┤ unitary ├─╫──╫──╫──╫─┤M├───\n",
       "     ├─────────┤ ║  ║  ║  ║ └╥┘┌─┐\n",
       "q_5: ┤ unitary ├─╫──╫──╫──╫──╫─┤M├\n",
       "     └─────────┘ ║  ║  ║  ║  ║ └╥┘\n",
       "c: 6/════════════╩══╩══╩══╩══╩══╩═\n",
       "                 0  1  2  3  4  5 "
      ]
     },
     "execution_count": 58,
     "metadata": {},
     "output_type": "execute_result"
    }
   ],
   "source": [
    "# circuit 2^n = 64, so n=6\n",
    "qc = QuantumCircuit(6, 6)\n",
    "\n",
    "#gate = extensions.UnitaryGate(new_unitary)\n",
    "\n",
    "\n",
    "# ignore this\n",
    "# uni_tary = np.array([i[:2] for i in new_unitary[:2]])\n",
    "\n",
    "# testing basic unitary\n",
    "identity = np.array([[1,0], [0,1]])\n",
    "\n",
    "qc.unitary(identity, [0, 1, 2, 3, 4, 5])\n",
    "\n",
    "# measure qubit's output\n",
    "qc.measure([0, 1, 2, 3, 4, 5], [0, 1, 2, 3, 4, 5])\n",
    "\n",
    "qc.draw()\n"
   ]
  },
  {
   "cell_type": "code",
   "execution_count": 59,
   "id": "signed-offset",
   "metadata": {},
   "outputs": [
    {
     "data": {
      "image/png": "[encoded data removed]",
      "text/plain": [
       "<Figure size 504x360 with 1 Axes>"
      ]
     },
     "execution_count": 59,
     "metadata": {},
     "output_type": "execute_result"
    }
   ],
   "source": [
    "# run simulation 100000 times, stores results in counts\n",
    "job = execute(qc, simulator, shots=100000)\n",
    "\n",
    "results = job.result()\n",
    "\n",
    "counts = results.get_counts(qc)\n",
    "\n",
    "plot_histogram(counts)"
   ]
  },
  {
   "cell_type": "code",
   "execution_count": 35,
   "id": "critical-civilian",
   "metadata": {},
   "outputs": [
    {
     "name": "stdout",
     "output_type": "stream",
     "text": [
      "[0.2, 1.4, 3.5, 5.1] \n",
      "Data Retrieved, just backwards\n"
     ]
    }
   ],
   "source": [
    "\"\"\" NO DATA TO DECODE YET :(\"\"\"\n",
    "\n",
    "# retrieving original data as the \n",
    "# expected value of each set of bits i.e\n",
    "# add probabilities of all outputs with their 4th bit set on\n",
    "bit4 = []\n",
    "bit3 = []\n",
    "bit2 = []\n",
    "bit1 = []\n",
    "# creating an array to access E(psi) more easily\n",
    "for i in counts:\n",
    "    prob = counts[i]/100000\n",
    "    bit4.append([i[0], prob])\n",
    "    bit3.append([i[1], prob])\n",
    "    bit2.append([i[2], prob])\n",
    "    bit1.append([i[3], prob])\n",
    "    \n",
    "# array of bit's arrays...\n",
    "bits = [bit4, bit3, bit2, bit1]\n",
    "q_data = []\n",
    "\n",
    "# finding the expected value of each bit, appending to array\n",
    "for nth_bit in bits:\n",
    "    e_val = 0.0\n",
    "    for bit in nth_bit:\n",
    "#        print(bit[0], bit[1])\n",
    "        if int(bit[0]) == 1:\n",
    "            e_val += bit[1]\n",
    "#            print('added')\n",
    "    q_data.append(e_val)\n",
    "\n",
    "orig = [round(i*max_val, 1) for i in q_data]\n",
    "print(orig, '\\nData Retrieved, just backwards')"
   ]
  }
 ],
 "metadata": {
  "kernelspec": {
   "display_name": "Python 3",
   "language": "python",
   "name": "python3"
  },
  "language_info": {
   "codemirror_mode": {
    "name": "ipython",
    "version": 3
   },
   "file_extension": ".py",
   "mimetype": "text/x-python",
   "name": "python",
   "nbconvert_exporter": "python",
   "pygments_lexer": "ipython3",
   "version": "3.8.5"
  }
 },
 "nbformat": 4,
 "nbformat_minor": 5
}
