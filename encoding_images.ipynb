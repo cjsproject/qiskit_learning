{
 "cells": [
  {
   "cell_type": "code",
   "execution_count": 64,
   "id": "documentary-roads",
   "metadata": {},
   "outputs": [],
   "source": [
    "%matplotlib inline\n",
    "# Importing standard Qiskit libraries\n",
    "from qiskit import QuantumCircuit, execute, Aer, IBMQ, assemble, extensions\n",
    "from qiskit.visualization import *\n",
    "\n",
    "from os import environ\n",
    "\n",
    "#local environment variable to store the access token :)\n",
    "token = environ.get('ibmq_token')"
   ]
  },
  {
   "cell_type": "code",
   "execution_count": 61,
   "id": "centered-marketing",
   "metadata": {},
   "outputs": [
    {
     "name": "stderr",
     "output_type": "stream",
     "text": [
      "ibmqfactory.load_account:WARNING:2021-03-24 20:51:01,726: Credentials are already in use. The existing account in the session will be replaced.\n"
     ]
    }
   ],
   "source": [
    "# Loading your IBM Q account(s)\n",
    "account = IBMQ.save_account(token, overwrite=True)\n",
    "provider = IBMQ.load_account()"
   ]
  },
  {
   "cell_type": "code",
   "execution_count": 62,
   "id": "reported-library",
   "metadata": {},
   "outputs": [],
   "source": [
    "# quasm_sim not necessary\n",
    "simulator = Aer.get_backend('qasm_simulator')"
   ]
  },
  {
   "cell_type": "code",
   "execution_count": 26,
   "id": "proved-intelligence",
   "metadata": {},
   "outputs": [
    {
     "name": "stdout",
     "output_type": "stream",
     "text": [
      "[[ 0.  0.  5. 13.  9.  1.  0.  0.]\n",
      " [ 0.  0. 13. 15. 10. 15.  5.  0.]\n",
      " [ 0.  3. 15.  2.  0. 11.  8.  0.]\n",
      " [ 0.  4. 12.  0.  0.  8.  8.  0.]\n",
      " [ 0.  5.  8.  0.  0.  9.  8.  0.]\n",
      " [ 0.  4. 11.  0.  1. 12.  7.  0.]\n",
      " [ 0.  2. 14.  5. 10. 12.  0.  0.]\n",
      " [ 0.  0.  6. 13. 10.  0.  0.  0.]]\n"
     ]
    }
   ],
   "source": [
    "import numpy as np\n",
    "from matplotlib.image import imread\n",
    "import matplotlib.pyplot as plt\n",
    "\n",
    "from sklearn.datasets import load_digits\n",
    "digits = load_digits()\n",
    "\n",
    "# load the list of lists into a list :)\n",
    "img_data = iris['images']\n",
    "print(img_data[0])"
   ]
  },
  {
   "cell_type": "code",
   "execution_count": 55,
   "id": "hidden-electron",
   "metadata": {},
   "outputs": [
    {
     "data": {
      "image/png": "[encoded data removed]",
      "text/plain": [
       "<Figure size 576x576 with 1 Axes>"
      ]
     },
     "metadata": {
      "needs_background": "light"
     },
     "output_type": "display_data"
    }
   ],
   "source": [
    "\n",
    "# setting the figure parameters to the size of the input\n",
    "plt.rcParams['figure.figsize'] = [8, 8]\n",
    "\n",
    "# testing one input\n",
    "A = img_data[0]\n",
    "B = img_data[5]\n",
    "\n",
    "# displays image in grayscale\n",
    "display = plt.imshow(A)\n",
    "display.set_cmap('gray')\n"
   ]
  },
  {
   "cell_type": "code",
   "execution_count": 71,
   "id": "explicit-methodology",
   "metadata": {},
   "outputs": [
    {
     "name": "stdout",
     "output_type": "stream",
     "text": [
      "[[ 0.  0.  5. 13.  9.  1.  0.  0.]\n",
      " [ 0.  0. 13. 15. 10. 15.  5.  0.]\n",
      " [ 0.  3. 15.  2.  0. 11.  8.  0.]\n",
      " [ 0.  4. 12.  0.  0.  8.  8.  0.]\n",
      " [ 0.  5.  8.  0.  0.  9.  8.  0.]\n",
      " [ 0.  4. 11.  0.  1. 12.  7.  0.]\n",
      " [ 0.  2. 14.  5. 10. 12.  0.  0.]\n",
      " [ 0.  0.  6. 13. 10.  0.  0.  0.]]\n",
      "\n",
      "[[ 0.         -0.05959226  0.1752816   0.05540371  0.03729251 -0.3047647\n",
      "   0.          0.        ]\n",
      " [ 0.         -0.05447486  0.00343946  0.48802791  0.09876213  0.07364842\n",
      "  -0.04304886  0.        ]\n",
      " [ 0.          0.045151   -0.01199603  0.09404577  0.22089625  0.16346796\n",
      "  -0.05366199 -0.        ]\n",
      " [-0.          0.09387843  0.16028185 -0.09264875 -0.01088966 -0.36768431\n",
      "   0.01463615 -0.        ]\n",
      " [-0.          0.22231472 -0.11804625  0.01300128  0.3275643  -0.01511394\n",
      "  -0.08811987  0.        ]\n",
      " [ 0.         -0.19217368  0.0032104   0.04038643  0.12449665  0.0107869\n",
      "   0.44045065  0.        ]\n",
      " [ 0.         -0.         -0.          0.          0.         -0.\n",
      "  -0.          0.00673247]\n",
      " [ 0.23511864 -0.          0.          0.          0.          0.\n",
      "   0.         -0.        ]]\n"
     ]
    },
    {
     "data": {
      "image/png": "[encoded data removed]",
      "text/plain": [
       "<Figure size 432x288 with 1 Axes>"
      ]
     },
     "metadata": {
      "needs_background": "light"
     },
     "output_type": "display_data"
    }
   ],
   "source": [
    "# perform full Singular Vector Decomposition (SVD)\n",
    "U, S, VT = np.linalg.svd(A, full_matrices=False)\n",
    "\n",
    "new_unitary = U*VT\n",
    "\n",
    "print(A, new_unitary, sep='\\n\\n')\n",
    "\n",
    "\n",
    "display = plt.imshow(new_unitary)\n",
    "display.set_cmap('gray')\n"
   ]
  },
  {
   "cell_type": "code",
   "execution_count": 72,
   "id": "annual-oregon",
   "metadata": {},
   "outputs": [
    {
     "ename": "ExtensionError",
     "evalue": "'Input matrix is not unitary.'",
     "output_type": "error",
     "traceback": [
      "\u001b[0;31m---------------------------------------------------------------------------\u001b[0m",
      "\u001b[0;31mExtensionError\u001b[0m                            Traceback (most recent call last)",
      "\u001b[0;32m<ipython-input-72-1381d108c0ba>\u001b[0m in \u001b[0;36m<module>\u001b[0;34m\u001b[0m\n\u001b[1;32m      4\u001b[0m \u001b[0;31m# note: can use a loop here to encode multiple values\u001b[0m\u001b[0;34m\u001b[0m\u001b[0;34m\u001b[0m\u001b[0;34m\u001b[0m\u001b[0m\n\u001b[1;32m      5\u001b[0m \u001b[0;31m# next step is using bloch sphere rotations as ANN functions\u001b[0m\u001b[0;34m\u001b[0m\u001b[0;34m\u001b[0m\u001b[0;34m\u001b[0m\u001b[0m\n\u001b[0;32m----> 6\u001b[0;31m \u001b[0mextensions\u001b[0m\u001b[0;34m.\u001b[0m\u001b[0mUnitaryGate\u001b[0m\u001b[0;34m(\u001b[0m\u001b[0mnew_unitary\u001b[0m\u001b[0;34m,\u001b[0m \u001b[0;36m0\u001b[0m\u001b[0;34m)\u001b[0m\u001b[0;34m\u001b[0m\u001b[0;34m\u001b[0m\u001b[0m\n\u001b[0m\u001b[1;32m      7\u001b[0m \u001b[0;34m\u001b[0m\u001b[0m\n\u001b[1;32m      8\u001b[0m \u001b[0;31m# measure qubit's output\u001b[0m\u001b[0;34m\u001b[0m\u001b[0;34m\u001b[0m\u001b[0;34m\u001b[0m\u001b[0m\n",
      "\u001b[0;32m~/.local/lib/python3.8/site-packages/qiskit/extensions/unitary.py\u001b[0m in \u001b[0;36m__init__\u001b[0;34m(self, data, label)\u001b[0m\n\u001b[1;32m     60\u001b[0m         \u001b[0;31m# Check input is unitary\u001b[0m\u001b[0;34m\u001b[0m\u001b[0;34m\u001b[0m\u001b[0;34m\u001b[0m\u001b[0m\n\u001b[1;32m     61\u001b[0m         \u001b[0;32mif\u001b[0m \u001b[0;32mnot\u001b[0m \u001b[0mis_unitary_matrix\u001b[0m\u001b[0;34m(\u001b[0m\u001b[0mdata\u001b[0m\u001b[0;34m)\u001b[0m\u001b[0;34m:\u001b[0m\u001b[0;34m\u001b[0m\u001b[0;34m\u001b[0m\u001b[0m\n\u001b[0;32m---> 62\u001b[0;31m             \u001b[0;32mraise\u001b[0m \u001b[0mExtensionError\u001b[0m\u001b[0;34m(\u001b[0m\u001b[0;34m\"Input matrix is not unitary.\"\u001b[0m\u001b[0;34m)\u001b[0m\u001b[0;34m\u001b[0m\u001b[0;34m\u001b[0m\u001b[0m\n\u001b[0m\u001b[1;32m     63\u001b[0m         \u001b[0;31m# Check input is N-qubit matrix\u001b[0m\u001b[0;34m\u001b[0m\u001b[0;34m\u001b[0m\u001b[0;34m\u001b[0m\u001b[0m\n\u001b[1;32m     64\u001b[0m         \u001b[0minput_dim\u001b[0m\u001b[0;34m,\u001b[0m \u001b[0moutput_dim\u001b[0m \u001b[0;34m=\u001b[0m \u001b[0mdata\u001b[0m\u001b[0;34m.\u001b[0m\u001b[0mshape\u001b[0m\u001b[0;34m\u001b[0m\u001b[0;34m\u001b[0m\u001b[0m\n",
      "\u001b[0;31mExtensionError\u001b[0m: 'Input matrix is not unitary.'"
     ]
    }
   ],
   "source": [
    "# circuit with 4 qubits, 4 cbits\n",
    "qc = QuantumCircuit(1, 1)\n",
    "\n",
    "# note: can use a loop here to encode multiple values\n",
    "# next step is using bloch sphere rotations as ANN functions\n",
    "extensions.UnitaryGate(new_unitary, 0)\n",
    "\n",
    "# measure qubit's output\n",
    "qc.measure(0, 0)\n",
    "\n",
    "qc.draw()"
   ]
  },
  {
   "cell_type": "code",
   "execution_count": 26,
   "id": "signed-offset",
   "metadata": {},
   "outputs": [
    {
     "data": {
      "image/png": "[encoded data removed]",
      "text/plain": [
       "<Figure size 504x360 with 1 Axes>"
      ]
     },
     "execution_count": 26,
     "metadata": {},
     "output_type": "execute_result"
    }
   ],
   "source": [
    "# run simulation 100000 times, stores results in counts\n",
    "job = execute(qc, simulator, shots=100000)\n",
    "\n",
    "results = job.result()\n",
    "\n",
    "counts = results.get_counts(qc)\n",
    "\n",
    "plot_histogram(counts)"
   ]
  },
  {
   "cell_type": "code",
   "execution_count": 35,
   "id": "critical-civilian",
   "metadata": {},
   "outputs": [
    {
     "name": "stdout",
     "output_type": "stream",
     "text": [
      "[0.2, 1.4, 3.5, 5.1] \n",
      "Data Retrieved, just backwards\n"
     ]
    }
   ],
   "source": [
    "# retrieving original data as the \n",
    "# expected value of each set of bits i.e\n",
    "# add probabilities of all outputs with their 4th bit set on\n",
    "bit4 = []\n",
    "bit3 = []\n",
    "bit2 = []\n",
    "bit1 = []\n",
    "# creating an array to access E(psi) more easily\n",
    "for i in counts:\n",
    "    prob = counts[i]/100000\n",
    "    bit4.append([i[0], prob])\n",
    "    bit3.append([i[1], prob])\n",
    "    bit2.append([i[2], prob])\n",
    "    bit1.append([i[3], prob])\n",
    "    \n",
    "# array of bit's arrays...\n",
    "bits = [bit4, bit3, bit2, bit1]\n",
    "q_data = []\n",
    "\n",
    "# finding the expected value of each bit, appending to array\n",
    "for nth_bit in bits:\n",
    "    e_val = 0.0\n",
    "    for bit in nth_bit:\n",
    "#        print(bit[0], bit[1])\n",
    "        if int(bit[0]) == 1:\n",
    "            e_val += bit[1]\n",
    "#            print('added')\n",
    "    q_data.append(e_val)\n",
    "\n",
    "orig = [round(i*max_val, 1) for i in q_data]\n",
    "print(orig, '\\nData Retrieved, just backwards')"
   ]
  }
 ],
 "metadata": {
  "kernelspec": {
   "display_name": "Python 3",
   "language": "python",
   "name": "python3"
  },
  "language_info": {
   "codemirror_mode": {
    "name": "ipython",
    "version": 3
   },
   "file_extension": ".py",
   "mimetype": "text/x-python",
   "name": "python",
   "nbconvert_exporter": "python",
   "pygments_lexer": "ipython3",
   "version": "3.8.5"
  }
 },
 "nbformat": 4,
 "nbformat_minor": 5
}
